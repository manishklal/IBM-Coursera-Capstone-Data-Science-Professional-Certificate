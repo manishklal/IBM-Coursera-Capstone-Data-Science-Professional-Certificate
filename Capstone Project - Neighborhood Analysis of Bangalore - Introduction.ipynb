{
 "cells": [
  {
   "cell_type": "markdown",
   "metadata": {},
   "source": [
    "# **Capstone Project - Neighborhood Analysis of Bangalore, India - Introduction**\n",
    "\n",
    "### **Applied Data Science Capstone by IBM / Coursera**"
   ]
  },
  {
   "cell_type": "markdown",
   "metadata": {},
   "source": [
    "## **Table of contents**\n",
    " - [Introduction: Business Problem](#introduction)\n",
    " - Data\n",
    " - Methodology\n",
    " - Analysis\n",
    " - Results and Discussion\n",
    " - Conclusion"
   ]
  },
  {
   "cell_type": "markdown",
   "metadata": {},
   "source": [
    "## **Introduction: Business Problem**<a name=\"introduction\"></a>"
   ]
  },
  {
   "cell_type": "markdown",
   "metadata": {},
   "source": [
    "**Bangalore,** a city in southern India, is called \"The garden city of India\". It has moderate climate all year round and was considered as a perfect retirement place. However, in the past few decades, Bangalore has risen to be the **\"IT capital of India\"** and is also referred to as the **\"Silicon Valley of India\"**. It has become a popular destination for many companies from all around the world to open their offices. Likewise, the city has seen tremendous migration of people from all over India. As a result, there is a plethora of new business opening in the city.\n",
    "\n",
    "In this project we will focus on finding an optimal location for opening an **Italian restaurant** in the city. For this we will focus on the following three criteria:\n",
    " - **find locations that have fewer restaurants**\n",
    " - particularly detect **areas with no Italian restaurant in the vicinity**\n",
    " - give preference to locations **closer to the city center** if the first two conditions are satisfied.\n",
    " \n",
    "We will utilize the tools discussed in the IBM Data Science Professional Certificate course on Coursera to segment and analyze the neighborhoods in Bangalore based upon the above criteria. We will use the analysis to identify the top locations and discuss these to give the stakeholders enough information to decide on the location for opening an Italian restaurant."
   ]
  },
  {
   "cell_type": "code",
   "execution_count": null,
   "metadata": {},
   "outputs": [],
   "source": []
  }
 ],
 "metadata": {
  "kernelspec": {
   "display_name": "Python 3",
   "language": "python",
   "name": "python3"
  },
  "language_info": {
   "codemirror_mode": {
    "name": "ipython",
    "version": 3
   },
   "file_extension": ".py",
   "mimetype": "text/x-python",
   "name": "python",
   "nbconvert_exporter": "python",
   "pygments_lexer": "ipython3",
   "version": "3.6.8"
  }
 },
 "nbformat": 4,
 "nbformat_minor": 2
}
